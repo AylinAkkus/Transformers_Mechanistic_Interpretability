{
 "cells": [
  {
   "cell_type": "code",
   "execution_count": 1,
   "metadata": {},
   "outputs": [],
   "source": [
    "import random\n",
    "import pandas as pd\n",
    "import numpy as np"
   ]
  },
  {
   "cell_type": "code",
   "execution_count": 2,
   "metadata": {},
   "outputs": [],
   "source": [
    "# Hyperparameters\n",
    "D_VOCAB = 64"
   ]
  },
  {
   "cell_type": "code",
   "execution_count": 20,
   "metadata": {},
   "outputs": [
    {
     "data": {
      "text/html": [
       "<div>\n",
       "<style scoped>\n",
       "    .dataframe tbody tr th:only-of-type {\n",
       "        vertical-align: middle;\n",
       "    }\n",
       "\n",
       "    .dataframe tbody tr th {\n",
       "        vertical-align: top;\n",
       "    }\n",
       "\n",
       "    .dataframe thead th {\n",
       "        text-align: right;\n",
       "    }\n",
       "</style>\n",
       "<table border=\"1\" class=\"dataframe\">\n",
       "  <thead>\n",
       "    <tr style=\"text-align: right;\">\n",
       "      <th></th>\n",
       "      <th>sorted</th>\n",
       "      <th>displaced</th>\n",
       "    </tr>\n",
       "  </thead>\n",
       "  <tbody>\n",
       "    <tr>\n",
       "      <th>0</th>\n",
       "      <td>[11, 16, 23, 46]</td>\n",
       "      <td>[16, 11, 23, 46]</td>\n",
       "    </tr>\n",
       "    <tr>\n",
       "      <th>1</th>\n",
       "      <td>[0, 4, 17, 45]</td>\n",
       "      <td>[4, 0, 17, 45]</td>\n",
       "    </tr>\n",
       "    <tr>\n",
       "      <th>2</th>\n",
       "      <td>[0, 53, 56, 64]</td>\n",
       "      <td>[53, 0, 56, 64]</td>\n",
       "    </tr>\n",
       "    <tr>\n",
       "      <th>3</th>\n",
       "      <td>[28, 35, 35, 48]</td>\n",
       "      <td>[35, 28, 35, 48]</td>\n",
       "    </tr>\n",
       "    <tr>\n",
       "      <th>4</th>\n",
       "      <td>[17, 42, 57, 58]</td>\n",
       "      <td>[17, 42, 57, 58]</td>\n",
       "    </tr>\n",
       "    <tr>\n",
       "      <th>...</th>\n",
       "      <td>...</td>\n",
       "      <td>...</td>\n",
       "    </tr>\n",
       "    <tr>\n",
       "      <th>1995</th>\n",
       "      <td>[12, 24, 51, 62]</td>\n",
       "      <td>[12, 51, 24, 62]</td>\n",
       "    </tr>\n",
       "    <tr>\n",
       "      <th>1996</th>\n",
       "      <td>[2, 8, 13, 52]</td>\n",
       "      <td>[13, 2, 8, 52]</td>\n",
       "    </tr>\n",
       "    <tr>\n",
       "      <th>1997</th>\n",
       "      <td>[6, 23, 31, 35]</td>\n",
       "      <td>[23, 6, 31, 35]</td>\n",
       "    </tr>\n",
       "    <tr>\n",
       "      <th>1998</th>\n",
       "      <td>[9, 30, 47, 54]</td>\n",
       "      <td>[30, 47, 9, 54]</td>\n",
       "    </tr>\n",
       "    <tr>\n",
       "      <th>1999</th>\n",
       "      <td>[24, 29, 31, 35]</td>\n",
       "      <td>[24, 31, 29, 35]</td>\n",
       "    </tr>\n",
       "  </tbody>\n",
       "</table>\n",
       "<p>2000 rows × 2 columns</p>\n",
       "</div>"
      ],
      "text/plain": [
       "                sorted         displaced\n",
       "0     [11, 16, 23, 46]  [16, 11, 23, 46]\n",
       "1       [0, 4, 17, 45]    [4, 0, 17, 45]\n",
       "2      [0, 53, 56, 64]   [53, 0, 56, 64]\n",
       "3     [28, 35, 35, 48]  [35, 28, 35, 48]\n",
       "4     [17, 42, 57, 58]  [17, 42, 57, 58]\n",
       "...                ...               ...\n",
       "1995  [12, 24, 51, 62]  [12, 51, 24, 62]\n",
       "1996    [2, 8, 13, 52]    [13, 2, 8, 52]\n",
       "1997   [6, 23, 31, 35]   [23, 6, 31, 35]\n",
       "1998   [9, 30, 47, 54]   [30, 47, 9, 54]\n",
       "1999  [24, 29, 31, 35]  [24, 31, 29, 35]\n",
       "\n",
       "[2000 rows x 2 columns]"
      ]
     },
     "execution_count": 20,
     "metadata": {},
     "output_type": "execute_result"
    }
   ],
   "source": [
    "def sorted_list_random_numbers(length):\n",
    "    return sorted([random.randint(0, D_VOCAB) for i in range(length)])\n",
    "\n",
    "def displace(lst):\n",
    "    i, j = 0,0\n",
    "    while abs(i - j) < 1:\n",
    "        i = random.randint(0, len(lst)-1)\n",
    "        j = random.randint(0, len(lst)-1)\n",
    "    if i > j:\n",
    "        new_lst = lst[:j]\n",
    "        new_lst.append(lst[i])\n",
    "        new_lst += lst[j:i]\n",
    "        new_lst += lst[i+1:]\n",
    "    else: # j < i\n",
    "        new_lst = lst[:i]\n",
    "        new_lst += lst[i+1:j]\n",
    "        new_lst.append(lst[i])\n",
    "        new_lst += lst[j:]\n",
    "    return new_lst\n",
    "\n",
    "def generate_swap_dataset_1(length=4, num_samples = 2000):\n",
    "    sorted_lst = [sorted_list_random_numbers(length) for i in range(num_samples)]\n",
    "    df = pd.DataFrame()\n",
    "    df[\"sorted\"] = sorted_lst\n",
    "    df[\"displaced\"] = [displace(lst) for lst in sorted_lst]\n",
    "    return df\n",
    "\n",
    "generate_swap_dataset_1()"
   ]
  },
  {
   "cell_type": "markdown",
   "metadata": {},
   "source": [
    "# Parse to CSV file\n",
    "\n",
    "Takes the Data Frame and parses it to a csv file of the format:\n",
    "\n",
    "text, labels\n",
    "70 158 307 263 [SEP] [MASK] [MASK] [MASK] [MASK], 70 158 263 307\n"
   ]
  },
  {
   "cell_type": "code",
   "execution_count": 21,
   "metadata": {},
   "outputs": [],
   "source": [
    "def parse_inputs(row):\n",
    "    lst = row[0]\n",
    "    pattern = \"\"\n",
    "\n",
    "    # Unpack the list into a string of values\n",
    "    for i in lst:\n",
    "        pattern += f\"{i} \"\n",
    "\n",
    "    # Add the remaining part\n",
    "    pattern += \"[SEP] [MASK] [MASK] [MASK] [MASK]\"    \n",
    "    return pattern\n",
    "\n",
    "def parse_outputs(row):\n",
    "    lst = row[1]\n",
    "    pattern = \"\"\n",
    "\n",
    "    # Unpack the list into a string of values\n",
    "    for i in lst:\n",
    "        pattern += f\"{i} \"\n",
    "    return pattern\n",
    "\n",
    "def parse_data_to_csv(data, file_name):\n",
    "    data[\"text\"] = data.apply(parse_inputs, axis=1)\n",
    "    data[\"labels\"] = data.apply(parse_outputs, axis=1)\n",
    "\n",
    "    # Write the DataFrame to a CSV file\n",
    "    data.loc[:,[\"text\", \"labels\"]].to_csv(file_name, index=False)"
   ]
  },
  {
   "cell_type": "code",
   "execution_count": 22,
   "metadata": {},
   "outputs": [
    {
     "name": "stdout",
     "output_type": "stream",
     "text": [
      "                sorted         displaced\n",
      "0       [0, 8, 31, 59]    [0, 59, 8, 31]\n",
      "1     [10, 20, 21, 39]  [20, 10, 21, 39]\n",
      "2      [4, 20, 39, 64]   [4, 39, 20, 64]\n",
      "3     [23, 28, 37, 37]  [23, 28, 37, 37]\n",
      "4      [9, 38, 54, 61]   [54, 9, 38, 61]\n",
      "...                ...               ...\n",
      "1995   [1, 23, 42, 50]   [1, 23, 42, 50]\n",
      "1996  [18, 20, 38, 48]  [18, 20, 38, 48]\n",
      "1997  [28, 40, 47, 55]  [28, 40, 47, 55]\n",
      "1998    [3, 3, 45, 62]    [3, 3, 62, 45]\n",
      "1999  [10, 37, 39, 39]  [37, 39, 10, 39]\n",
      "\n",
      "[2000 rows x 2 columns]\n"
     ]
    }
   ],
   "source": [
    "data = generate_swap_dataset_1()\n",
    "print(data)\n",
    "parse_data_to_csv(data, \"../data/displace_test.csv\")"
   ]
  }
 ],
 "metadata": {
  "kernelspec": {
   "display_name": "base",
   "language": "python",
   "name": "python3"
  },
  "language_info": {
   "codemirror_mode": {
    "name": "ipython",
    "version": 3
   },
   "file_extension": ".py",
   "mimetype": "text/x-python",
   "name": "python",
   "nbconvert_exporter": "python",
   "pygments_lexer": "ipython3",
   "version": "3.8.0"
  }
 },
 "nbformat": 4,
 "nbformat_minor": 2
}
